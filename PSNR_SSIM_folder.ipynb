{
  "nbformat": 4,
  "nbformat_minor": 0,
  "metadata": {
    "colab": {
      "provenance": [],
      "collapsed_sections": [
        "XGHx7WR7CJur",
        "_iyDJvEFEXkP",
        "shcGZfwdEbsv",
        "4OlhmI8mEfNa"
      ],
      "include_colab_link": true
    },
    "kernelspec": {
      "name": "python3",
      "display_name": "Python 3"
    },
    "language_info": {
      "name": "python"
    }
  },
  "cells": [
    {
      "cell_type": "markdown",
      "metadata": {
        "id": "view-in-github",
        "colab_type": "text"
      },
      "source": [
        "<a href=\"https://colab.research.google.com/github/ZHANJINGCHUN/metrics_compute/blob/main/PSNR_SSIM_folder.ipynb\" target=\"_parent\"><img src=\"https://colab.research.google.com/assets/colab-badge.svg\" alt=\"Open In Colab\"/></a>"
      ]
    },
    {
      "cell_type": "code",
      "source": [
        "from google.colab import drive\n",
        "drive.mount('/content/drive')"
      ],
      "metadata": {
        "colab": {
          "base_uri": "https://localhost:8080/"
        },
        "id": "_2-TjWblVUzG",
        "outputId": "0655c4d5-e203-494f-ae29-06f4dcb85080"
      },
      "execution_count": null,
      "outputs": [
        {
          "output_type": "stream",
          "name": "stdout",
          "text": [
            "Mounted at /content/drive\n"
          ]
        }
      ]
    },
    {
      "cell_type": "markdown",
      "source": [
        "## 批量对比两个文件夹"
      ],
      "metadata": {
        "id": "tJRCTQYJIf4g"
      }
    },
    {
      "cell_type": "code",
      "source": [
        "#不需要运行其他代码，直接运行这里\n",
        "import os\n",
        "import cv2\n",
        "import numpy as np\n",
        "from skimage.metrics import structural_similarity as compare_ssim\n",
        "\n",
        "def calculate_metrics(image1, image2):\n",
        "    # Resize the images to a common size\n",
        "    new_shape = (image1.shape[0], image1.shape[1], image1.shape[2])  # Use the shape of image1\n",
        "    image2_resized = cv2.resize(image2, (new_shape[1], new_shape[0]))\n",
        "\n",
        "    # Calculate MSE\n",
        "    mse_value = np.mean((image1 - image2_resized) ** 2)\n",
        "\n",
        "    # Calculate PSNR\n",
        "    max_pixel = 255.0\n",
        "    psnr_value = 20 * np.log10(max_pixel / np.sqrt(mse_value))\n",
        "\n",
        "    # Convert images to grayscale\n",
        "    gray_image1 = cv2.cvtColor(image1, cv2.COLOR_BGR2GRAY)\n",
        "    gray_image2_resized = cv2.cvtColor(image2_resized, cv2.COLOR_BGR2GRAY)\n",
        "\n",
        "    # Calculate SSIM\n",
        "    ssim_value = compare_ssim(gray_image1, gray_image2_resized)\n",
        "\n",
        "    return mse_value, psnr_value, ssim_value\n",
        "\n",
        "def calculate_folders_metrics(folder1_path, folder2_path):\n",
        "    # Get list of image files in folders\n",
        "    folder1_files = sorted([f for f in os.listdir(folder1_path) if os.path.isfile(os.path.join(folder1_path, f))])\n",
        "    folder2_files = sorted([f for f in os.listdir(folder2_path) if os.path.isfile(os.path.join(folder2_path, f))])\n",
        "    print(\"folder1_files\",folder1_files)\n",
        "    print(\"folder1_files\",folder1_files)\n",
        "\n",
        "    # Initialize lists to store metrics\n",
        "    mse_values = []\n",
        "    psnr_values = []\n",
        "    ssim_values = []\n",
        "\n",
        "    # Iterate through image pairs in folders\n",
        "    for image1_file, image2_file in zip(folder1_files, folder2_files):\n",
        "        # Load images\n",
        "        image1_path = os.path.join(folder1_path, image1_file)\n",
        "        image2_path = os.path.join(folder2_path, image2_file)\n",
        "        image1 = cv2.imread(image1_path)\n",
        "        image2 = cv2.imread(image2_path)\n",
        "\n",
        "        # Calculate metrics\n",
        "        mse, psnr, ssim = calculate_metrics(image1, image2)\n",
        "\n",
        "        # Append metrics to lists\n",
        "        mse_values.append(mse)\n",
        "        psnr_values.append(psnr)\n",
        "        ssim_values.append(ssim)\n",
        "\n",
        "        # Print metrics for current image pair\n",
        "        print(f\"Metrics for {image1_file} and {image2_file}:\")\n",
        "        print(\"MSE:\", mse)\n",
        "        print(\"PSNR:\", psnr)\n",
        "        print(\"SSIM:\", ssim)\n",
        "        print()\n",
        "\n",
        "    # Compute average metrics\n",
        "    avg_mse = np.mean(mse_values)\n",
        "    avg_psnr = np.mean(psnr_values)\n",
        "    avg_ssim = np.mean(ssim_values)\n",
        "\n",
        "    return avg_mse, avg_psnr, avg_ssim\n",
        "\n"
      ],
      "metadata": {
        "id": "QhaaFIk7IfnX"
      },
      "execution_count": null,
      "outputs": []
    },
    {
      "cell_type": "code",
      "source": [
        "# run\n",
        "folder1_path = \"/content/drive/MyDrive/DATASETS/LOLv1/eval15/high\"#原始图像文件夹\n",
        "folder2_path = \"/content/drive/MyDrive/DATASETS/LOLv1/eval15/low\"#要比较的图像文件夹\n",
        "avg_mse, avg_psnr, avg_ssim = calculate_folders_metrics(folder1_path, folder2_path)\n",
        "print(\"Average MSE:\", avg_mse)\n",
        "print(\"Average PSNR:\", avg_psnr)\n",
        "print(\"Average SSIM:\", avg_ssim)\n"
      ],
      "metadata": {
        "colab": {
          "base_uri": "https://localhost:8080/"
        },
        "id": "rhO6qfLEZtte",
        "outputId": "ba5a8d0d-0bf2-4260-b477-1f9c3d30297a"
      },
      "execution_count": null,
      "outputs": [
        {
          "output_type": "stream",
          "name": "stdout",
          "text": [
            "folder1_files ['1.png', '111.png', '146.png', '179.png', '22.png', '23.png', '493.png', '547.png', '55.png', '665.png', '669.png', '748.png', '778.png', '780.png', '79.png']\n",
            "folder1_files ['1.png', '111.png', '146.png', '179.png', '22.png', '23.png', '493.png', '547.png', '55.png', '665.png', '669.png', '748.png', '778.png', '780.png', '79.png']\n",
            "Metrics for 1.png and 1.png:\n",
            "MSE: 108.16409166666666\n",
            "PSNR: 27.789972533257817\n",
            "SSIM: 0.24339526026144834\n",
            "\n",
            "Metrics for 111.png and 111.png:\n",
            "MSE: 103.59618472222222\n",
            "PSNR: 27.977365995185117\n",
            "SSIM: 0.19314972168108616\n",
            "\n",
            "Metrics for 146.png and 146.png:\n",
            "MSE: 91.01943888888889\n",
            "PSNR: 28.5394620700154\n",
            "SSIM: 0.2586545937041066\n",
            "\n",
            "Metrics for 179.png and 179.png:\n",
            "MSE: 107.96858611111111\n",
            "PSNR: 27.797829467062563\n",
            "SSIM: 0.4316175616292793\n",
            "\n",
            "Metrics for 22.png and 22.png:\n",
            "MSE: 111.5586875\n",
            "PSNR: 27.65576964765298\n",
            "SSIM: 0.18846764029763294\n",
            "\n",
            "Metrics for 23.png and 23.png:\n",
            "MSE: 105.10774444444445\n",
            "PSNR: 27.914456444060207\n",
            "SSIM: 0.08109399964028549\n",
            "\n",
            "Metrics for 493.png and 493.png:\n",
            "MSE: 87.91810555555556\n",
            "PSNR: 28.69002039455577\n",
            "SSIM: 0.13565325483934834\n",
            "\n",
            "Metrics for 547.png and 547.png:\n",
            "MSE: 109.95996944444444\n",
            "PSNR: 27.718457503777362\n",
            "SSIM: 0.21884928907377327\n",
            "\n",
            "Metrics for 55.png and 55.png:\n",
            "MSE: 110.7521375\n",
            "PSNR: 27.687282440721535\n",
            "SSIM: 0.08322902059999371\n",
            "\n",
            "Metrics for 665.png and 665.png:\n",
            "MSE: 99.29494027777778\n",
            "PSNR: 28.1615324193372\n",
            "SSIM: 0.09462716899758582\n",
            "\n",
            "Metrics for 669.png and 669.png:\n",
            "MSE: 99.11672222222222\n",
            "PSNR: 28.169334293273785\n",
            "SSIM: 0.19680567114238448\n",
            "\n",
            "Metrics for 748.png and 748.png:\n",
            "MSE: 112.30807361111111\n",
            "PSNR: 27.62669382890334\n",
            "SSIM: 0.1982651239869555\n",
            "\n",
            "Metrics for 778.png and 778.png:\n",
            "MSE: 106.72148333333334\n",
            "PSNR: 27.848285079479428\n",
            "SSIM: 0.08048829877975536\n",
            "\n",
            "Metrics for 780.png and 780.png:\n",
            "MSE: 102.95952361111111\n",
            "PSNR: 28.00413836427139\n",
            "SSIM: 0.23559586474984093\n",
            "\n",
            "Metrics for 79.png and 79.png:\n",
            "MSE: 107.74315\n",
            "PSNR: 27.80690692353168\n",
            "SSIM: 0.2067304569367231\n",
            "\n",
            "Average MSE: 104.27925592592592\n",
            "Average PSNR: 27.95916716033904\n",
            "Average SSIM: 0.18977486175467997\n"
          ]
        }
      ]
    },
    {
      "cell_type": "markdown",
      "source": [
        "## PSNR-Peak_Signal_to_Noise_Ratio"
      ],
      "metadata": {
        "id": "_iyDJvEFEXkP"
      }
    },
    {
      "cell_type": "code",
      "source": [
        "import numpy\n",
        "import math\n",
        "def PSNR(img1, img2):\n",
        "  mse=MSE(img1,img2)\n",
        "  if mse==0:\n",
        "    return 100\n",
        "  PIXeL_MAX = 255.0\n",
        "  psnr =20* math.log10(PIXeL_MAX/math.sqrt(mse))\n",
        "  return psnr"
      ],
      "metadata": {
        "id": "COSRtcuSX4wt"
      },
      "execution_count": null,
      "outputs": []
    },
    {
      "cell_type": "markdown",
      "source": [
        "## read_images"
      ],
      "metadata": {
        "id": "shcGZfwdEbsv"
      }
    },
    {
      "cell_type": "code",
      "source": [
        "# 读取图片\n",
        "image1_path = '/content/drive/MyDrive/DATASETS/LOLv1/eval15/low/1.png'\n",
        "image2_path = '/content/drive/MyDrive/DATASETS/LOLv1/eval15/high/1.png'"
      ],
      "metadata": {
        "id": "DZPEQevFERLj"
      },
      "execution_count": null,
      "outputs": []
    },
    {
      "cell_type": "markdown",
      "source": [
        "## Calculate_MSE_PSNR_SSIM"
      ],
      "metadata": {
        "id": "4OlhmI8mEfNa"
      }
    },
    {
      "cell_type": "code",
      "source": [
        "import cv2\n",
        "import numpy as np\n",
        "from skimage.metrics import structural_similarity as compare_ssim\n",
        "\n",
        "image1 = cv2.imread(image1_path)\n",
        "image2 = cv2.imread(image2_path)\n",
        "\n",
        "# Resize the images to a common size\n",
        "new_shape = (image1.shape[0], image1.shape[1], image1.shape[2])  # Use the shape of image1\n",
        "image2_resized = cv2.resize(image2, (new_shape[1], new_shape[0]))\n",
        "\n",
        "# Calculate and print the MSE\n",
        "mse_value = MSE(image1, image2_resized)\n",
        "print(\"MSE:\", mse_value)\n",
        "\n",
        "# Calculate and print the PSNR\n",
        "psnr_value=PSNR(image1, image2_resized)\n",
        "print(\"psnr_value:\", psnr_value)\n",
        "\n",
        "# Convert images to grayscale\n",
        "gray_image1 = cv2.cvtColor(image1, cv2.COLOR_BGR2GRAY)\n",
        "gray_image2_resized = cv2.cvtColor(image2_resized, cv2.COLOR_BGR2GRAY)\n",
        "\n",
        "# Calculate SSIM-Structural_Similarity\n",
        "ssim_value = compare_ssim(gray_image1, gray_image2_resized)\n",
        "print(\"SSIM_value:\", ssim_value)\n"
      ],
      "metadata": {
        "colab": {
          "base_uri": "https://localhost:8080/"
        },
        "id": "74StgcYoZlay",
        "outputId": "b46a263a-afe3-4b63-8e74-7be0230dc77b"
      },
      "execution_count": null,
      "outputs": [
        {
          "output_type": "stream",
          "name": "stdout",
          "text": [
            "MSE: 108.16409166666666\n",
            "psnr_value: 27.789972533257817\n",
            "SSIM_value: 0.24339526026144834\n"
          ]
        }
      ]
    },
    {
      "cell_type": "markdown",
      "source": [
        "## MSE-Mean Square Error"
      ],
      "metadata": {
        "id": "XGHx7WR7CJur"
      }
    },
    {
      "cell_type": "code",
      "source": [
        "import numpy as np\n",
        "from PIL import Image\n",
        "from skimage.transform import resize\n",
        "\n",
        "def MSE(img1, img2):\n",
        "    mse = np.mean((img1 - img2)**2)\n",
        "    return mse"
      ],
      "metadata": {
        "id": "firYQCDyVBAn"
      },
      "execution_count": null,
      "outputs": []
    }
  ]
}