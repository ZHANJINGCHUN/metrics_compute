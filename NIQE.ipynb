{
  "nbformat": 4,
  "nbformat_minor": 0,
  "metadata": {
    "colab": {
      "provenance": [],
      "include_colab_link": true
    },
    "kernelspec": {
      "name": "python3",
      "display_name": "Python 3"
    },
    "language_info": {
      "name": "python"
    }
  },
  "cells": [
    {
      "cell_type": "markdown",
      "metadata": {
        "id": "view-in-github",
        "colab_type": "text"
      },
      "source": [
        "<a href=\"https://colab.research.google.com/github/ZHANJINGCHUN/metrics_compute/blob/main/NIQE.ipynb\" target=\"_parent\"><img src=\"https://colab.research.google.com/assets/colab-badge.svg\" alt=\"Open In Colab\"/></a>"
      ]
    },
    {
      "cell_type": "code",
      "source": [
        "from google.colab import drive\n",
        "drive.mount('/content/drive')"
      ],
      "metadata": {
        "colab": {
          "base_uri": "https://localhost:8080/"
        },
        "id": "nJYfzx1FojvR",
        "outputId": "680f4899-38bd-48e9-b9dd-179dee7ca4be"
      },
      "execution_count": null,
      "outputs": [
        {
          "output_type": "stream",
          "name": "stdout",
          "text": [
            "Mounted at /content/drive\n"
          ]
        }
      ]
    },
    {
      "cell_type": "code",
      "source": [
        "!pip install scikit-image"
      ],
      "metadata": {
        "colab": {
          "base_uri": "https://localhost:8080/"
        },
        "id": "MGMlLPgLniLQ",
        "outputId": "5624b503-df61-4893-895a-11d1269a6c2e"
      },
      "execution_count": null,
      "outputs": [
        {
          "output_type": "stream",
          "name": "stdout",
          "text": [
            "Requirement already satisfied: scikit-image in /usr/local/lib/python3.10/dist-packages (0.19.3)\n",
            "Requirement already satisfied: numpy>=1.17.0 in /usr/local/lib/python3.10/dist-packages (from scikit-image) (1.25.2)\n",
            "Requirement already satisfied: scipy>=1.4.1 in /usr/local/lib/python3.10/dist-packages (from scikit-image) (1.11.4)\n",
            "Requirement already satisfied: networkx>=2.2 in /usr/local/lib/python3.10/dist-packages (from scikit-image) (3.2.1)\n",
            "Requirement already satisfied: pillow!=7.1.0,!=7.1.1,!=8.3.0,>=6.1.0 in /usr/local/lib/python3.10/dist-packages (from scikit-image) (9.4.0)\n",
            "Requirement already satisfied: imageio>=2.4.1 in /usr/local/lib/python3.10/dist-packages (from scikit-image) (2.31.6)\n",
            "Requirement already satisfied: tifffile>=2019.7.26 in /usr/local/lib/python3.10/dist-packages (from scikit-image) (2024.2.12)\n",
            "Requirement already satisfied: PyWavelets>=1.1.1 in /usr/local/lib/python3.10/dist-packages (from scikit-image) (1.6.0)\n",
            "Requirement already satisfied: packaging>=20.0 in /usr/local/lib/python3.10/dist-packages (from scikit-image) (24.0)\n"
          ]
        }
      ]
    },
    {
      "cell_type": "code",
      "source": [
        "import os\n",
        "import numpy as np\n",
        "from skimage import io, color, img_as_float\n",
        "from skimage.filters import sobel\n",
        "from scipy.ndimage import convolve\n",
        "from scipy.stats import norm"
      ],
      "metadata": {
        "id": "N6r7-DOpneTh"
      },
      "execution_count": null,
      "outputs": []
    },
    {
      "cell_type": "code",
      "source": [
        "def compute_niqe(image):\n",
        "    # Convert the image to grayscale\n",
        "    image_gray = color.rgb2gray(image)\n",
        "\n",
        "    # Convert the image to float\n",
        "    image_float = img_as_float(image_gray)\n",
        "\n",
        "    # Compute gradient magnitude\n",
        "    grad_x = sobel(image_float, axis=0)\n",
        "    grad_y = sobel(image_float, axis=1)\n",
        "    gradient_magnitude = np.sqrt(grad_x**2 + grad_y**2)\n",
        "\n",
        "    # Compute local statistics\n",
        "    window_size = 32\n",
        "    local_means = convolve(image_float, np.ones((window_size, window_size)) / window_size**2)\n",
        "    local_vars = convolve(image_float**2, np.ones((window_size, window_size)) / window_size**2) - local_means**2\n",
        "\n",
        "    # Compute NIQE features\n",
        "    niqe_features = [\n",
        "        np.mean(gradient_magnitude),\n",
        "        np.mean(local_means),\n",
        "        np.mean(local_vars),\n",
        "        np.std(gradient_magnitude),\n",
        "        np.std(local_means),\n",
        "        np.std(local_vars),\n",
        "        norm.ppf(np.mean(gradient_magnitude)),\n",
        "        norm.ppf(np.mean(local_means)),\n",
        "        norm.ppf(np.mean(local_vars)),\n",
        "        norm.ppf(np.std(gradient_magnitude)),\n",
        "        norm.ppf(np.std(local_means)),\n",
        "        norm.ppf(np.std(local_vars))\n",
        "    ]\n",
        "\n",
        "    # Fit a Gaussian mixture model\n",
        "    niqe_mean = np.mean(niqe_features)\n",
        "    niqe_std = np.std(niqe_features)\n",
        "    niqe_normalized = (niqe_features - niqe_mean) / niqe_std\n",
        "    niqe_score = np.mean(niqe_normalized)\n",
        "\n",
        "    return niqe_score"
      ],
      "metadata": {
        "id": "CY6ImMIB1q-1"
      },
      "execution_count": null,
      "outputs": []
    },
    {
      "cell_type": "code",
      "source": [
        "def main(folder_path):\n",
        "    total_niqe = 0\n",
        "    num_images = 0\n",
        "\n",
        "    for filename in os.listdir(folder_path):\n",
        "        if filename.endswith(('.jpg', '.jpeg', '.png', '.bmp')):\n",
        "            image_path = os.path.join(folder_path, filename)\n",
        "            # Load an image\n",
        "            image = io.imread(image_path)\n",
        "            # Compute NIQE score\n",
        "            niqe_score = compute_niqe(image)\n",
        "            print(f\"{filename}: NIQE Score = {niqe_score}\")\n",
        "            total_niqe += niqe_score\n",
        "            num_images += 1\n",
        "\n",
        "    if num_images > 0:\n",
        "        average_niqe = total_niqe / num_images\n",
        "        print(f\"Average NIQE Score: {average_niqe}\")\n",
        "    else:\n",
        "        print(\"No images found in the folder.\")"
      ],
      "metadata": {
        "id": "5X07RLKn1unj"
      },
      "execution_count": null,
      "outputs": []
    },
    {
      "cell_type": "code",
      "source": [
        "if __name__ == \"__main__\":\n",
        "    folder_path = '/content/drive/MyDrive/DATASETS/LOLv1/eval15/high/'\n",
        "    main(folder_path)"
      ],
      "metadata": {
        "colab": {
          "base_uri": "https://localhost:8080/"
        },
        "id": "AU4kPFdv1xLM",
        "outputId": "1e997bb7-7e33-4f74-9156-d87940cbc0cd"
      },
      "execution_count": null,
      "outputs": [
        {
          "output_type": "stream",
          "name": "stdout",
          "text": [
            "146.png: NIQE Score = -5.551115123125783e-17\n",
            "669.png: NIQE Score = 0.0\n",
            "79.png: NIQE Score = -5.551115123125783e-17\n",
            "22.png: NIQE Score = 1.1102230246251565e-16\n",
            "778.png: NIQE Score = -1.850371707708594e-17\n",
            "179.png: NIQE Score = 5.551115123125783e-17\n",
            "55.png: NIQE Score = -7.401486830834377e-17\n",
            "1.png: NIQE Score = -7.401486830834377e-17\n",
            "547.png: NIQE Score = 7.401486830834377e-17\n",
            "493.png: NIQE Score = -1.4802973661668753e-16\n",
            "748.png: NIQE Score = 1.850371707708594e-17\n",
            "780.png: NIQE Score = 1.850371707708594e-17\n",
            "665.png: NIQE Score = -9.251858538542972e-17\n",
            "23.png: NIQE Score = -5.551115123125783e-17\n",
            "111.png: NIQE Score = 1.6653345369377348e-16\n",
            "Average NIQE Score: -8.635067969306772e-18\n"
          ]
        }
      ]
    }
  ]
}